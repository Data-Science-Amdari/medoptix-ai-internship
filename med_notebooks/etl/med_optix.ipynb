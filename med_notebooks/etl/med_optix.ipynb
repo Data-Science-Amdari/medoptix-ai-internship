{
 "cells": [
  {
   "cell_type": "code",
   "execution_count": null,
   "id": "e1af5a99",
   "metadata": {},
   "outputs": [],
   "source": [
    "# Import dependencies\n",
    "import boto3\n",
    "import os\n",
    "import pandas"
   ]
  },
  {
   "cell_type": "markdown",
   "id": "8f4357d5",
   "metadata": {},
   "source": [
    "# 1:  LOAD DATA INTO AWS S3"
   ]
  },
  {
   "cell_type": "code",
   "execution_count": 21,
   "id": "5e20d1df",
   "metadata": {},
   "outputs": [
    {
     "name": "stdout",
     "output_type": "stream",
     "text": [
      "uploaded clinics.csv successfully\n",
      "uploaded dropout_flags.csv successfully\n",
      "uploaded feedback.csv successfully\n",
      "uploaded interventions.csv successfully\n",
      "uploaded patients.csv successfully\n",
      "uploaded sessions.csv successfully\n"
     ]
    }
   ],
   "source": [
    "# define variables (AKA parameters)\n",
    "bucket_name = \"amdari-demo-etl\"\n",
    "folder_data = \"./medoptix_data\"\n",
    "target_folder = \"/medoptix/raw/\"\n",
    "\n",
    "# Activated a boto3 client\n",
    "s3 = boto3.client(\"s3\")\n",
    "\n",
    "\n",
    "try:    \n",
    "    for filename in os.listdir(folder_data):   #looped into the data folder\n",
    "        if filename.endswith(\".csv\"):    #check for only files that ended with .csv\n",
    "            filepath = os.path.join(folder_data, filename) # define a path (eg /medoptix_data/patients.csv)\n",
    "            s3.upload_file(\n",
    "                Filename = filepath,                      #we used the client method (upload_file) to upload all the csv into our s3 bucket\n",
    "                Bucket= bucket_name,\n",
    "                Key = target_folder + filename   # combination of the path(s3) plus the filename (/medoptix/raw/patients.csv)\n",
    "            )\n",
    "            print(f\"uploaded {filename} successfully\")   # printed out the progress level\n",
    "except:\n",
    "    print(\"An error occured\")\n",
    "        \n"
   ]
  },
  {
   "cell_type": "code",
   "execution_count": null,
   "id": "1fba568b",
   "metadata": {},
   "outputs": [],
   "source": []
  },
  {
   "cell_type": "markdown",
   "id": "3e0e58de",
   "metadata": {},
   "source": [
    "# 2: LOAD DATA FROM AWS S3 ------ POSTGRES"
   ]
  },
  {
   "cell_type": "code",
   "execution_count": null,
   "id": "91c488fd",
   "metadata": {},
   "outputs": [
    {
     "name": "stdout",
     "output_type": "stream",
     "text": [
      "Dowloaded patients.csv successfully\n",
      "Dowloaded sessions.csv successfully\n"
     ]
    }
   ],
   "source": [
    "import boto3\n",
    "import pandas\n",
    "\n",
    "# created a client\n",
    "s3 = boto3.client(\"s3\")\n",
    "\n",
    "# defined our parameters\n",
    "bucket = \"amdari-demo-etl\"\n",
    "prefix = \"/medoptix/raw/\"\n",
    "\n",
    "files = [\"patients.csv\", 'sessions.csv']\n",
    "\n",
    "#looped through our desired files and dowload then from S3 \n",
    "for file in files:\n",
    "    s3.download_file(bucket, prefix + file, file)  ### medoptix/raw/patients.csv\n",
    "    print(f\"Dowloaded {file} successfully\") \n",
    "\n"
   ]
  },
  {
   "cell_type": "code",
   "execution_count": null,
   "id": "765903c6",
   "metadata": {},
   "outputs": [],
   "source": []
  },
  {
   "cell_type": "code",
   "execution_count": null,
   "id": "e4ed39bd",
   "metadata": {},
   "outputs": [],
   "source": []
  }
 ],
 "metadata": {
  "kernelspec": {
   "display_name": "base",
   "language": "python",
   "name": "python3"
  },
  "language_info": {
   "codemirror_mode": {
    "name": "ipython",
    "version": 3
   },
   "file_extension": ".py",
   "mimetype": "text/x-python",
   "name": "python",
   "nbconvert_exporter": "python",
   "pygments_lexer": "ipython3",
   "version": "3.12.7"
  }
 },
 "nbformat": 4,
 "nbformat_minor": 5
}
